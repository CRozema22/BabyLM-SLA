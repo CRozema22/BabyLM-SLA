{
  "cells": [
    {
      "cell_type": "code",
      "execution_count": 1,
      "metadata": {
        "id": "u2hr7cWIsQHQ"
      },
      "outputs": [],
      "source": [
        "# https://huggingface.co/blog/how-to-train"
      ]
    },
    {
      "cell_type": "code",
      "execution_count": 6,
      "metadata": {
        "id": "JUtSYQU6vioc"
      },
      "outputs": [],
      "source": [
        "\n",
        "import transformers\n",
        "from transformers import RobertaConfig\n",
        "from transformers import RobertaForMaskedLM\n",
        "from transformers import Trainer, TrainingArguments\n",
        "from tokenizers import ByteLevelBPETokenizer\n",
        "from transformers import DataCollatorForLanguageModeling\n",
        "from transformers import RobertaTokenizerFast\n",
        "import pandas as pd\n",
        "import torch\n",
        "from torch.utils.data import Dataset, DataLoader\n",
        "from torch.utils.data import SequentialSampler\n"
      ]
    },
    {
      "cell_type": "code",
      "execution_count": 7,
      "metadata": {
        "id": "vNisKd9xz0j0"
      },
      "outputs": [],
      "source": [
        "train_filepath = 'data/ranked_sequences.csv'\n",
        "\n",
        "\n",
        "ranked = pd.read_csv(train_filepath)\n",
        "sequences = ranked['sequence'].tolist()\n",
        "\n",
        "with open('combined.dev') as infile:\n",
        "  devset = infile.read().split(\"\\n\")[:10000]\n"
      ]
    },
    {
      "cell_type": "code",
      "execution_count": 8,
      "metadata": {
        "colab": {
          "base_uri": "https://localhost:8080/"
        },
        "id": "F-Basc1I0xHd",
        "outputId": "d0d1af38-159e-4b76-ef96-31b1d9ad8a1a"
      },
      "outputs": [
        {
          "data": {
            "text/plain": [
              "1269227"
            ]
          },
          "execution_count": 8,
          "metadata": {},
          "output_type": "execute_result"
        }
      ],
      "source": [
        "len(sequences)"
      ]
    },
    {
      "cell_type": "code",
      "execution_count": 9,
      "metadata": {
        "id": "LLiZn11uurNY"
      },
      "outputs": [],
      "source": [
        "\n",
        "# Initialize tokenizer\n",
        "tokenizer = ByteLevelBPETokenizer()\n",
        "\n",
        "tokenizer.train_from_iterator(sequences, vocab_size=52_000, min_frequency=2, show_progress=True, special_tokens=[\n",
        "    \"<s>\",\n",
        "    \"<pad>\",\n",
        "    \"</s>\",\n",
        "    \"<unk>\",\n",
        "    \"<mask>\",\n",
        "])\n",
        "\n",
        "# Save tokenizer\n",
        "tokenizer_folder = 'tokenizer_folder'\n",
        "tokenizer.save_model(tokenizer_folder)"
      ]
    },
    {
      "cell_type": "code",
      "execution_count": 10,
      "metadata": {
        "colab": {
          "base_uri": "https://localhost:8080/"
        },
        "id": "lhHutYsoyAU5",
        "outputId": "d026e8f2-cb59-4f6b-f476-7979b0ce70dd"
      },
      "outputs": [
        {
          "name": "stdout",
          "output_type": "stream",
          "text": [
            "Num parameters:  83504416\n"
          ]
        }
      ],
      "source": [
        "\n",
        "# Configuration for RoBERTa model\n",
        "config = RobertaConfig(\n",
        "    vocab_size=52_000,\n",
        "    max_position_embeddings=514,\n",
        "    num_attention_heads=12,\n",
        "    num_hidden_layers=6,\n",
        "    type_vocab_size=1,\n",
        ")\n",
        "# Initialize model\n",
        "model = RobertaForMaskedLM(config=config)\n",
        "print('Num parameters: ',model.num_parameters())"
      ]
    },
    {
      "cell_type": "code",
      "execution_count": 11,
      "metadata": {
        "id": "vGymxT92yPTu"
      },
      "outputs": [],
      "source": [
        "# tokenizer_folder = 'tokenizer_folder'\n",
        "\n",
        "# Load tokenizer\n",
        "max_length = 512\n",
        "tokenizer = RobertaTokenizerFast.from_pretrained(tokenizer_folder, max_len=max_length)"
      ]
    },
    {
      "cell_type": "code",
      "execution_count": 12,
      "metadata": {
        "id": "WCd9hLauzYv2"
      },
      "outputs": [],
      "source": [
        "# create CustomDataset class\n",
        "\n",
        "class CustomDataset(Dataset):\n",
        "    def __init__(self, data, tokenizer):\n",
        "        self.examples = []\n",
        "        self.mask = []\n",
        "\n",
        "        for example in data:\n",
        "            x=tokenizer.encode_plus(example, max_length = max_length, truncation=True, padding=True)\n",
        "            self.examples += [x.input_ids]\n",
        "            self.mask += [x.attention_mask]\n",
        "\n",
        "    def __len__(self):\n",
        "        return len(self.examples)\n",
        "\n",
        "    def __getitem__(self, i):\n",
        "        return torch.tensor(self.examples[i])\n",
        "\n",
        "# create train and evaluation datasets\n",
        "train_dataset = CustomDataset(sequences, tokenizer)\n",
        "eval_dataset = CustomDataset(devset, tokenizer)"
      ]
    },
    {
      "cell_type": "code",
      "execution_count": 13,
      "metadata": {
        "id": "C0OhTWkO1HhF"
      },
      "outputs": [],
      "source": [
        "\n",
        "# Define data collator\n",
        "data_collator = DataCollatorForLanguageModeling(\n",
        "    tokenizer=tokenizer, mlm=True, mlm_probability=0.15\n",
        ")"
      ]
    },
    {
      "cell_type": "code",
      "execution_count": 15,
      "metadata": {
        "id": "B60fb9KTLRHz"
      },
      "outputs": [],
      "source": [
        "#adapted from https://github.com/MiuLab/FastMTL/blob/only3/custom_trainer.py\n",
        "\n",
        "# adapt get_train_dataloader function to supply DataLoader using SequentialSampler and shuffle=False to enforce curriculum learning\n",
        "\n",
        "from transformers.trainer import *\n",
        "def get_train_dataloader(self) -> DataLoader:\n",
        "    \"\"\"\n",
        "    Returns the training :class:`~torch.utils.data.DataLoader`.\n",
        "\n",
        "    Will use no sampler if :obj:`self.train_dataset` does not implement :obj:`__len__`, a random sampler (adapted\n",
        "    to distributed training if necessary) otherwise.\n",
        "\n",
        "    Subclass and override this method if you want to inject some custom behavior.\n",
        "    \"\"\"\n",
        "    if self.train_dataset is None:\n",
        "        raise ValueError(\"Trainer: training requires a train_dataset.\")\n",
        "\n",
        "    return DataLoader(\n",
        "        self.train_dataset,\n",
        "        batch_size=self.args.train_batch_size,\n",
        "        sampler=SequentialSampler(self.train_dataset),\n",
        "        collate_fn=self.data_collator,\n",
        "        drop_last=self.args.dataloader_drop_last,\n",
        "        num_workers=self.args.dataloader_num_workers,\n",
        "        shuffle=False\n",
        "    )\n",
        "Trainer.get_train_dataloader = get_train_dataloader"
      ]
    },
    {
      "cell_type": "code",
      "execution_count": null,
      "metadata": {
        "colab": {
          "base_uri": "https://localhost:8080/",
          "height": 145
        },
        "id": "oTGGf-XP1UZf",
        "outputId": "468271f1-22bb-42ab-b316-cf187c72eb77"
      },
      "outputs": [],
      "source": [
        "batch_size = 16\n",
        "\n",
        "# Define training arguments\n",
        "training_args = TrainingArguments(\n",
        "    output_dir='model_folder',\n",
        "    overwrite_output_dir=True,\n",
        "    evaluation_strategy = 'epoch',\n",
        "    num_train_epochs=5,\n",
        "    learning_rate=1e-4,\n",
        "    weight_decay=0.01,\n",
        "    per_device_train_batch_size=batch_size,\n",
        "    per_device_eval_batch_size=batch_size,\n",
        "    save_steps=8192,\n",
        "    save_total_limit=1,\n",
        "    #seed=10098,\n",
        "    max_steps=int(1269227 / batch_size)\n",
        ")\n",
        "# Create trainer\n",
        "trainer = Trainer(\n",
        "    model=model,\n",
        "    args=training_args,\n",
        "    data_collator=data_collator,\n",
        "    train_dataset=train_dataset,\n",
        "    eval_dataset=eval_dataset,\n",
        ")\n",
        "# Train the model\n",
        "trainer.train()"
      ]
    }
  ],
  "metadata": {
    "accelerator": "GPU",
    "colab": {
      "gpuType": "L4",
      "machine_shape": "hm",
      "provenance": []
    },
    "kernelspec": {
      "display_name": "Python 3",
      "name": "python3"
    },
    "language_info": {
      "name": "python"
    }
  },
  "nbformat": 4,
  "nbformat_minor": 0
}
